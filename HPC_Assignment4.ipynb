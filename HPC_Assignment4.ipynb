{
  "nbformat": 4,
  "nbformat_minor": 0,
  "metadata": {
    "colab": {
      "name": "HPC Assignment4.ipynb",
      "provenance": [],
      "collapsed_sections": [
        "wUlaCjZcCfXr",
        "OotUW9JxDaFe",
        "TSzf1t-XGyWl",
        "Uu-P-ZOkisNQ",
        "S1J3kK7zk0UI",
        "Y-UIkcC4ExhZ"
      ],
      "authorship_tag": "ABX9TyMUCgaX4PJQfhL7hVUNNi49",
      "include_colab_link": true
    },
    "kernelspec": {
      "display_name": "Python 3",
      "name": "python3"
    },
    "language_info": {
      "name": "python"
    }
  },
  "cells": [
    {
      "cell_type": "markdown",
      "metadata": {
        "id": "view-in-github",
        "colab_type": "text"
      },
      "source": [
        "<a href=\"https://colab.research.google.com/github/abiget/word_letter_freq_count_and_sum_numbers_in_file_pyspark/blob/main/HPC_Assignment4.ipynb\" target=\"_parent\"><img src=\"https://colab.research.google.com/assets/colab-badge.svg\" alt=\"Open In Colab\"/></a>"
      ]
    },
    {
      "cell_type": "markdown",
      "metadata": {
        "id": "wUlaCjZcCfXr"
      },
      "source": [
        "#import spark and driver mount to load data"
      ]
    },
    {
      "cell_type": "code",
      "metadata": {
        "colab": {
          "base_uri": "https://localhost:8080/"
        },
        "id": "wKMZokxqUodt",
        "outputId": "f3c09f7c-2631-4643-dd14-04f21b985028"
      },
      "source": [
        "from google.colab import drive\n",
        "drive.mount(\"/content/driver\")"
      ],
      "execution_count": null,
      "outputs": [
        {
          "output_type": "stream",
          "text": [
            "Mounted at /content/driver\n"
          ],
          "name": "stdout"
        }
      ]
    },
    {
      "cell_type": "code",
      "metadata": {
        "colab": {
          "base_uri": "https://localhost:8080/"
        },
        "id": "KzhiaRoPSNeZ",
        "outputId": "7c1fbc2e-cd41-41b4-91d6-11b2e5372263"
      },
      "source": [
        "pip install pyspark"
      ],
      "execution_count": null,
      "outputs": [
        {
          "output_type": "stream",
          "text": [
            "Collecting pyspark\n",
            "  Downloading pyspark-3.1.2.tar.gz (212.4 MB)\n",
            "\u001b[K     |████████████████████████████████| 212.4 MB 63 kB/s \n",
            "\u001b[?25hCollecting py4j==0.10.9\n",
            "  Downloading py4j-0.10.9-py2.py3-none-any.whl (198 kB)\n",
            "\u001b[K     |████████████████████████████████| 198 kB 55.9 MB/s \n",
            "\u001b[?25hBuilding wheels for collected packages: pyspark\n",
            "  Building wheel for pyspark (setup.py) ... \u001b[?25l\u001b[?25hdone\n",
            "  Created wheel for pyspark: filename=pyspark-3.1.2-py2.py3-none-any.whl size=212880768 sha256=6c4e929f1c542514ed299184cb8f4fa8e8800678336afda48a0637ccce0f4a08\n",
            "  Stored in directory: /root/.cache/pip/wheels/a5/0a/c1/9561f6fecb759579a7d863dcd846daaa95f598744e71b02c77\n",
            "Successfully built pyspark\n",
            "Installing collected packages: py4j, pyspark\n",
            "Successfully installed py4j-0.10.9 pyspark-3.1.2\n"
          ],
          "name": "stdout"
        }
      ]
    },
    {
      "cell_type": "code",
      "metadata": {
        "id": "vXgMZuIaFW4C"
      },
      "source": [
        "from pyspark.sql import SparkSession\n",
        "from pyspark.conf import SparkConf"
      ],
      "execution_count": null,
      "outputs": []
    },
    {
      "cell_type": "code",
      "metadata": {
        "id": "f0uaLl2oXzxQ"
      },
      "source": [
        "spark=SparkSession.builder\\\n",
        "    .master(\"local[*]\")\\\n",
        "    .appName(\"WordCount\")\\\n",
        "    .getOrCreate()"
      ],
      "execution_count": null,
      "outputs": []
    },
    {
      "cell_type": "code",
      "metadata": {
        "id": "rqsqZF9bX2dx"
      },
      "source": [
        "sc = spark.sparkContext"
      ],
      "execution_count": null,
      "outputs": []
    },
    {
      "cell_type": "code",
      "metadata": {
        "id": "Nnp7YsdfDR_f"
      },
      "source": [
        "# load data from google drive \n",
        "logData = sc.textFile(\"/content/driver/MyDrive/HPC Assignment/book.txt\").cache()"
      ],
      "execution_count": null,
      "outputs": []
    },
    {
      "cell_type": "markdown",
      "metadata": {
        "id": "OotUW9JxDaFe"
      },
      "source": [
        "#Replace words to lowercase save to words_lower.txt\n"
      ]
    },
    {
      "cell_type": "code",
      "metadata": {
        "id": "gZH23kRgDfhC"
      },
      "source": [
        "lowercase_lines = logData.map(lambda line: line.lower())\n",
        "with open('/content/driver/MyDrive/HPC Assignment/words_lower.txt', 'a') as f:\n",
        "  for line in lowercase_lines.collect():\n",
        "    f.write(line)\n",
        "    f.write('\\n')"
      ],
      "execution_count": null,
      "outputs": []
    },
    {
      "cell_type": "code",
      "metadata": {
        "colab": {
          "base_uri": "https://localhost:8080/"
        },
        "id": "ShiRuxyoFypO",
        "outputId": "c990f38b-0f92-408c-b90d-b547bc6c0177"
      },
      "source": [
        "# # to make things work well\n",
        "words_lower_logData = sc.textFile(\"/content/driver/MyDrive/HPC Assignment/words_lower.txt\").cache()\n",
        "words_lower_logData.take(10)"
      ],
      "execution_count": null,
      "outputs": [
        {
          "output_type": "execute_result",
          "data": {
            "text/plain": [
              "['catching fire',\n",
              " '',\n",
              " 'part i \"the spark\"',\n",
              " '',\n",
              " \"i clasp the flask between my hands even though the warmth from the tea has long since leached into the frozen air. my muscles are clenched tight against the cold. if a pack of wild dogs were to appear at this moment, the odds of scaling a tree before they attacked are not in my favor. i should get up, move around, and work the stiffness from my limbs. but instead i sit, as motionless as the rock beneath me, while the dawn begins to lighten the woods. i can't fight the sun. i can only watch helplessly as it drags me into a day that i've been dreading for months. by noon they will all be at my new house in the victor's village. the reporters, the camera crews, even effie trinket, my old escort, will have\",\n",
              " '',\n",
              " \"made their way to district 12 from the capitol. i wonder if effie will still be wearing that silly pink wig, or if she'll be sporting some other unnatural color especially for the victory tour. there will be others waiting, too. a staff to cater to my every need on the long train trip. a prep team to beautify me for public appearances. my stylist and friend, cinna, who designed the gorgeous outfits that first made the audience take notice of me in the hunger games. if it were up to me, i would try to forget the hunger games entirely. never speak of them. pretend they were nothing but a bad dream. but the victory tour makes that impossible. strategically placed almost midway between the annual games, it is the capitol's way of keeping the horror fresh and immediate. not only are we in the districts forced to remember the iron grip of the capitol's power each year, we are forced to celebrate it. and this year, i am one of the stars\",\n",
              " \"of the show. i will have to travel from district to district, to stand before the cheering crowds who secretly loathe me, to look down into the faces of the families whose children i have killed... the sun persists in rising, so i make myself stand. all my joints complain and my left leg has been asleep for so long that it takes several minutes of pacing to bring the feeling back into it. i've been in the woods three hours, but as i've made no real attempt at hunting, i have nothing to show for it. it doesn't matter for my mother and little sister, prim, anymore. they can afford to buy butcher meat in town, although none of us likes it any better than fresh game. but my best friend, gale hawthorne, and his family will be depending on today's haul and i can't let them down. i start the hour-and-a-half trek it will take to cover our snare line. back when we were in school, we had time in the afternoons to check the line and hunt and gather and still\",\n",
              " '',\n",
              " \"get back to trade in town. but now that gale has gone to work in the coal mines -- and i have nothing to do all day--i've taken over the job. by this time gale will have clocked in at the\"]"
            ]
          },
          "metadata": {
            "tags": []
          },
          "execution_count": 12
        }
      ]
    },
    {
      "cell_type": "markdown",
      "metadata": {
        "id": "TSzf1t-XGyWl"
      },
      "source": [
        "#Replace space with '-' in words-.txt"
      ]
    },
    {
      "cell_type": "code",
      "metadata": {
        "id": "dT5Ork5hG3-M"
      },
      "source": [
        "#replace all occurence of white space \n",
        "white_space_with_dash = logData.map(lambda line: line.replace(\" \", \"-\", -1))\n",
        "with open('/content/driver/MyDrive/HPC Assignment/words-.txt', 'a') as f:\n",
        "  for line in white_space_with_dash.collect():\n",
        "    f.write(line)\n",
        "    f.write('\\n')"
      ],
      "execution_count": null,
      "outputs": []
    },
    {
      "cell_type": "code",
      "metadata": {
        "colab": {
          "base_uri": "https://localhost:8080/"
        },
        "id": "1jUrshfKH4c5",
        "outputId": "9ceab3da-e661-4c67-8f6b-9a5fcbe0dd45"
      },
      "source": [
        "# # to make things work well\n",
        "white_space_with_dash_load = sc.textFile(\"/content/driver/MyDrive/HPC Assignment/words-.txt\").cache()\n",
        "white_space_with_dash_load.take(10)"
      ],
      "execution_count": null,
      "outputs": [
        {
          "output_type": "execute_result",
          "data": {
            "text/plain": [
              "['Catching-fire',\n",
              " '',\n",
              " 'PART-I-\"THE-SPARK\"',\n",
              " '',\n",
              " \"I-clasp-the-flask-between-my-hands-even-though-the-warmth-from-the-tea-has-long-since-leached-into-the-frozen-air.-My-muscles-are-clenched-tight-against-the-cold.-If-a-pack-of-wild-dogs-were-to-appear-at-this-moment,-the-odds-of-scaling-a-tree-before-they-attacked-are-not-in-my-favor.-I-should-get-up,-move-around,-and-work-the-stiffness-from-my-limbs.-But-instead-I-sit,-as-motionless-as-the-rock-beneath-me,-while-the-dawn-begins-to-lighten-the-woods.-I-can't-fight-the-sun.-I-can-only-watch-helplessly-as-it-drags-me-into-a-day-that-I've-been-dreading-for-months.-By-noon-they-will-all-be-at-my-new-house-in-the-Victor's-Village.-The-reporters,-the-camera-crews,-even-Effie-Trinket,-my-old-escort,-will-have\",\n",
              " '',\n",
              " \"made-their-way-to-District-12-from-the-Capitol.-I-wonder-if-Effie-will-still-be-wearing-that-silly-pink-wig,-or-if-she'll-be-sporting-some-other-unnatural-color-especially-for-the-Victory-Tour.-There-will-be-others-waiting,-too.-A-staff-to-cater-to-my-every-need-on-the-long-train-trip.-A-prep-team-to-beautify-me-for-public-appearances.-My-stylist-and-friend,-Cinna,-who-designed-the-gorgeous-outfits-that-first-made-the-audience-take-notice-of-me-in-the-Hunger-Games.-If-it-were-up-to-me,-I-would-try-to-forget-the-Hunger-Games-entirely.-Never-speak-of-them.-Pretend-they-were-nothing-but-a-bad-dream.-But-the-Victory-Tour-makes-that-impossible.-Strategically-placed-almost-midway-between-the-annual-Games,-it-is-the-Capitol's-way-of-keeping-the-horror-fresh-and-immediate.-Not-only-are-we-in-the-districts-forced-to-remember-the-iron-grip-of-the-Capitol's-power-each-year,-we-are-forced-to-celebrate-it.-And-this-year,-I-am-one-of-the-stars\",\n",
              " \"of-the-show.-I-will-have-to-travel-from-district-to-district,-to-stand-before-the-cheering-crowds-who-secretly-loathe-me,-to-look-down-into-the-faces-of-the-families-whose-children-I-have-killed...-The-sun-persists-in-rising,-so-I-make-myself-stand.-All-my-joints-complain-and-my-left-leg-has-been-asleep-for-so-long-that-it-takes-several-minutes-of-pacing-to-bring-the-feeling-back-into-it.-I've-been-in-the-woods-three-hours,-but-as-I've-made-no-real-attempt-at-hunting,-I-have-nothing-to-show-for-it.-It-doesn't-matter-for-my-mother-and-little-sister,-Prim,-anymore.-They-can-afford-to-buy-butcher-meat-in-town,-although-none-of-us-likes-it-any-better-than-fresh-game.-But-my-best-friend,-Gale-Hawthorne,-and-his-family-will-be-depending-on-today's-haul-and-I-can't-let-them-down.-I-start-the-hour-and-a-half-trek-it-will-take-to-cover-our-snare-line.-Back-when-we-were-in-school,-we-had-time-in-the-afternoons-to-check-the-line-and-hunt-and-gather-and-still\",\n",
              " '',\n",
              " \"get-back-to-trade-in-town.-But-now-that-Gale-has-gone-to-work-in-the-coal-mines----and-I-have-nothing-to-do-all-day--I've-taken-over-the-job.-By-this-time-Gale-will-have-clocked-in-at-the\"]"
            ]
          },
          "metadata": {
            "tags": []
          },
          "execution_count": 15
        }
      ]
    },
    {
      "cell_type": "markdown",
      "metadata": {
        "id": "Uu-P-ZOkisNQ"
      },
      "source": [
        "\n",
        "# Word counter \n",
        "\n"
      ]
    },
    {
      "cell_type": "code",
      "metadata": {
        "colab": {
          "base_uri": "https://localhost:8080/"
        },
        "id": "dmbYpFQ8Svz5",
        "outputId": "3737269f-dcf6-4b97-c0c2-75e6748d0212"
      },
      "source": [
        "# split with white space and unroll \n",
        "words = logData.flatMap(lambda line: line.split())\n",
        "\n",
        "#clean the non alpha character\n",
        "clean_words = words.filter(lambda letter: letter.isalpha()).map(lambda word: word.lower())\n",
        "print(\"Total Number of Words :\", clean_words.count())\n",
        "\n",
        "# find unique number of words\n",
        "clean_unique_words = clean_words.distinct()\n",
        "print(\"Total unique Words :\", clean_unique_words.count())"
      ],
      "execution_count": null,
      "outputs": [
        {
          "output_type": "stream",
          "text": [
            "Total Number of Words : 81476\n",
            "Total unique Words : 6553\n"
          ],
          "name": "stdout"
        }
      ]
    },
    {
      "cell_type": "markdown",
      "metadata": {
        "id": "S1J3kK7zk0UI"
      },
      "source": [
        "#Letter frequency counter"
      ]
    },
    {
      "cell_type": "code",
      "metadata": {
        "colab": {
          "base_uri": "https://localhost:8080/"
        },
        "id": "6eQWxO5_SvvV",
        "outputId": "456b95a0-a189-49f6-e6d3-742eb30a9540"
      },
      "source": [
        "from operator import  add\n",
        "letter_in_oneLine = clean_words.flatMap(lambda word: list(word))\n",
        "# assign 1 to each letter as a value\n",
        "letter_key_value_pair = letter_in_oneLine.map(lambda letter: (letter, 1))\n",
        "# add the value of each key \n",
        "letter_frequency = letter_key_value_pair.reduceByKey(add)\n",
        "print(\"Letter Count\\n\")\n",
        "print(letter_frequency.collect())"
      ],
      "execution_count": null,
      "outputs": [
        {
          "output_type": "stream",
          "text": [
            "Letter Count\n",
            "\n",
            "[('c', 7392), ('h', 20500), ('i', 24205), ('g', 7428), ('r', 15791), ('p', 5435), ('l', 12003), ('s', 19426), ('b', 5904), ('y', 6927), ('d', 10840), ('j', 575), ('a', 24680), ('t', 31595), ('n', 22140), ('f', 7539), ('e', 39693), ('k', 3977), ('w', 7625), ('m', 8478), ('v', 2941), ('o', 24109), ('u', 9036), ('z', 218), ('q', 259), ('x', 314)]\n"
          ],
          "name": "stdout"
        }
      ]
    },
    {
      "cell_type": "markdown",
      "metadata": {
        "id": "Y-UIkcC4ExhZ"
      },
      "source": [
        "# Sum numbers in numbers in each text file\n"
      ]
    },
    {
      "cell_type": "code",
      "metadata": {
        "id": "LZd9tKoDEhUI"
      },
      "source": [
        "numbers = sc.textFile(\"/content/driver/MyDrive/HPC Assignment/Numbers.txt\").cache()\n",
        "numbers2 = sc.textFile(\"/content/driver/MyDrive/HPC Assignment/Numbers2.txt\").cache()\n",
        "numbers4 = sc.textFile(\"/content/driver/MyDrive/HPC Assignment/Numbers4.txt\").cache()\n",
        "numbers8 = sc.textFile(\"/content/driver/MyDrive/HPC Assignment/Numbers8.txt\").cache()\n",
        "numbers16 = sc.textFile(\"/content/driver/MyDrive/HPC Assignment/Numbers16.txt\").cache()\n",
        "numbers32 = sc.textFile(\"/content/driver/MyDrive/HPC Assignment/Numbers32.txt\").cache()"
      ],
      "execution_count": null,
      "outputs": []
    },
    {
      "cell_type": "code",
      "metadata": {
        "id": "9V9KKKhjoCpe"
      },
      "source": [
        "def check_no_string(numbers_file):\n",
        "  for num in numbers_file.collect():\n",
        "    if type(num) != str:\n",
        "      print(type(num))"
      ],
      "execution_count": null,
      "outputs": []
    },
    {
      "cell_type": "code",
      "metadata": {
        "id": "hSsq9S_nGXbv"
      },
      "source": [
        "from operator import  add\n",
        "#sum of numbers for each text file\n",
        "def addNumbers(numbers_add):\n",
        "  sum_all = numbers_add.reduce(add)\n",
        "  return sum_all\n",
        "#cast each number to float\n",
        "def asFloat(num):\n",
        "  return float(num)"
      ],
      "execution_count": null,
      "outputs": []
    },
    {
      "cell_type": "code",
      "metadata": {
        "id": "X1LGnkfwo-cr"
      },
      "source": [
        "#check for non-string \n",
        "check_no_string(numbers)\n",
        "check_no_string(numbers2)\n",
        "check_no_string(numbers4)\n",
        "check_no_string(numbers8)\n",
        "check_no_string(numbers16)\n",
        "check_no_string(numbers32)"
      ],
      "execution_count": null,
      "outputs": []
    },
    {
      "cell_type": "code",
      "metadata": {
        "id": "pm2d8QwWsXsR"
      },
      "source": [
        "import time\n",
        "executionTimes = []\n",
        "sizeOffiles = []"
      ],
      "execution_count": null,
      "outputs": []
    },
    {
      "cell_type": "code",
      "metadata": {
        "colab": {
          "base_uri": "https://localhost:8080/"
        },
        "id": "dQfnrdRupeEu",
        "outputId": "065aa5af-d23b-431a-f8cd-e83189a584f0"
      },
      "source": [
        "#cast to float\n",
        "numbers_float = numbers.map(asFloat)\n",
        "#add all of the numbers in numbers.txt\n",
        "start = time.time()\n",
        "sum = addNumbers(numbers_float)\n",
        "end = time.time()\n",
        "executionTimes.append(end-start)\n",
        "sizeOffiles.append(len(numbers_float.collect()))\n",
        "print(\"The sum of numbers in numbers.txt = \", sum)"
      ],
      "execution_count": null,
      "outputs": [
        {
          "output_type": "stream",
          "text": [
            "The sum of numbers in numbers.txt =  110144916.0\n"
          ],
          "name": "stdout"
        }
      ]
    },
    {
      "cell_type": "code",
      "metadata": {
        "colab": {
          "base_uri": "https://localhost:8080/"
        },
        "id": "yBz_OCShsbZk",
        "outputId": "a8314a3e-ae1a-4c74-93c2-ccc8c6db75ab"
      },
      "source": [
        "#cast to float\n",
        "numbers2_float = numbers2.map(asFloat)\n",
        "#add all of the numbers in numbers2.txt\n",
        "start = time.time()\n",
        "sum = addNumbers(numbers2_float)\n",
        "end = time.time()\n",
        "executionTimes.append(end-start)\n",
        "sizeOffiles.append(len(numbers2_float.collect()))\n",
        "print(\"The sum of numbers in numbers2.txt = \", sum)"
      ],
      "execution_count": null,
      "outputs": [
        {
          "output_type": "stream",
          "text": [
            "The sum of numbers in numbers2.txt =  1099642890.0\n"
          ],
          "name": "stdout"
        }
      ]
    },
    {
      "cell_type": "code",
      "metadata": {
        "colab": {
          "base_uri": "https://localhost:8080/"
        },
        "id": "ronzG1tas2rg",
        "outputId": "592f7ab4-fd93-4199-c420-d6b93ecdf5c4"
      },
      "source": [
        "#cast to float\n",
        "numbers4_float = numbers4.map(asFloat)\n",
        "#add all of the numbers in numbers4.txt\n",
        "start = time.time()\n",
        "sum = addNumbers(numbers4_float)\n",
        "end = time.time()\n",
        "executionTimes.append(end-start)\n",
        "sizeOffiles.append(len(numbers4_float.collect()))\n",
        "print(\"The sum of numbers in numbers4.txt = \", sum)"
      ],
      "execution_count": null,
      "outputs": [
        {
          "output_type": "stream",
          "text": [
            "The sum of numbers in numbers4.txt =  2199749007.0\n"
          ],
          "name": "stdout"
        }
      ]
    },
    {
      "cell_type": "code",
      "metadata": {
        "colab": {
          "base_uri": "https://localhost:8080/"
        },
        "id": "EAPN_Cqzs20B",
        "outputId": "95c4dac4-66b4-42ae-d13d-5fa5b1f40aaf"
      },
      "source": [
        "#cast to float\n",
        "numbers8_float = numbers8.map(asFloat)\n",
        "#add all of the numbers in numbers8.txt\n",
        "start = time.time()\n",
        "sum = addNumbers(numbers8_float)\n",
        "end = time.time()\n",
        "executionTimes.append(end-start)\n",
        "sizeOffiles.append(len(numbers8_float.collect()))\n",
        "print(\"The sum of numbers in numbers8.txt = \", sum)"
      ],
      "execution_count": null,
      "outputs": [
        {
          "output_type": "stream",
          "text": [
            "The sum of numbers in numbers8.txt =  4403588793.0\n"
          ],
          "name": "stdout"
        }
      ]
    },
    {
      "cell_type": "code",
      "metadata": {
        "colab": {
          "base_uri": "https://localhost:8080/"
        },
        "id": "BD3ZkAoEs22Q",
        "outputId": "c68dd4cd-9823-4536-8895-b87ba15bc3fd"
      },
      "source": [
        "#cast to float\n",
        "numbers16_float = numbers16.map(asFloat)\n",
        "#add all of the numbers in numbers16.txt\n",
        "start = time.time()\n",
        "sum = addNumbers(numbers16_float)\n",
        "end = time.time()\n",
        "executionTimes.append(end-start)\n",
        "sizeOffiles.append(len(numbers16_float.collect()))\n",
        "print(\"The sum of numbers in numbers16.txt = \", sum)"
      ],
      "execution_count": null,
      "outputs": [
        {
          "output_type": "stream",
          "text": [
            "The sum of numbers in numbers16.txt =  8797696176.0\n"
          ],
          "name": "stdout"
        }
      ]
    },
    {
      "cell_type": "code",
      "metadata": {
        "colab": {
          "base_uri": "https://localhost:8080/"
        },
        "id": "XZBkkHHus24n",
        "outputId": "7287a804-7475-413e-f2b8-abb5d59e0812"
      },
      "source": [
        "#cast to float\n",
        "numbers32_float = numbers32.map(asFloat)\n",
        "#add all of the numbers in numbers32.txt\n",
        "start = time.time()\n",
        "sum = addNumbers(numbers32_float)\n",
        "end = time.time()\n",
        "executionTimes.append(end-start)\n",
        "sizeOffiles.append(len(numbers32_float.collect()))\n",
        "print(\"The sum of numbers in numbers16.txt = \", sum)"
      ],
      "execution_count": null,
      "outputs": [
        {
          "output_type": "stream",
          "text": [
            "The sum of numbers in numbers16.txt =  17597420425.0\n"
          ],
          "name": "stdout"
        }
      ]
    },
    {
      "cell_type": "code",
      "metadata": {
        "colab": {
          "base_uri": "https://localhost:8080/",
          "height": 404
        },
        "id": "jJANAOM5rnd9",
        "outputId": "5805eb65-6e25-4869-f996-53e62e553093"
      },
      "source": [
        "#plot number of execution time vs log scale of size of the files\n",
        "import numpy as np\n",
        "import matplotlib.pyplot as plt\n",
        "%matplotlib inline\n",
        "fig = plt.figure(figsize = (8, 6)) \n",
        "plt.bar(np.log(sizeOffiles), executionTimes, color ='green', width = 0.4) \n",
        "plt.xlabel(\"Log(size of files)\") \n",
        "plt.ylabel(\"Execution Time(sec)\") \n",
        "plt.title(\"Execution time vs size of files in log scale\") \n",
        "plt.show()"
      ],
      "execution_count": null,
      "outputs": [
        {
          "output_type": "display_data",
          "data": {
            "image/png": "[encoded data removed]",
            "text/plain": [
              "<Figure size 576x432 with 1 Axes>"
            ]
          },
          "metadata": {
            "tags": [],
            "needs_background": "light"
          }
        }
      ]
    }
  ]
}